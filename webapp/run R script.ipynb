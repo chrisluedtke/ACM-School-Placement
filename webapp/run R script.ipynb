{
 "cells": [
  {
   "cell_type": "code",
   "execution_count": 1,
   "metadata": {},
   "outputs": [],
   "source": [
    "# import rpy2\n",
    "from rpy2.robjects import r\n",
    "\n",
    "# from rpy2.rinterface import R_VERSION_BUILD\n",
    "# print(R_VERSION_BUILD)\n",
    "\n",
    "# packnames = ('dplyr', 'tidyr')\n",
    "# from rpy2.robjects.vectors import StrVector\n",
    "# utils.install_packages(StrVector(packnames))"
   ]
  },
  {
   "cell_type": "code",
   "execution_count": 2,
   "metadata": {
    "scrolled": true
   },
   "outputs": [
    {
     "data": {
      "text/html": [
       "\n",
       "    <span>ListVector with 2 elements.</span>\n",
       "    <table>\n",
       "      <tbody>\n",
       "      \n",
       "      <tr>\n",
       "      <th>\n",
       "        value\n",
       "      </th>\n",
       "      <td>\n",
       "        \n",
       "    <span>ListVector with 2 elements.</span>\n",
       "    <table>\n",
       "      <tbody>\n",
       "      \n",
       "      <tr>\n",
       "      <th>\n",
       "        value\n",
       "      </th>\n",
       "      <td>\n",
       "        NULL\n",
       "      </td>\n",
       "      </tr>\n",
       "      \n",
       "      <tr>\n",
       "      <th>\n",
       "        visible\n",
       "      </th>\n",
       "      <td>\n",
       "        \n",
       "    <span>BoolVector with 1 elements.</span>\n",
       "    <table>\n",
       "      <tbody>\n",
       "      <tr>\n",
       "      \n",
       "      <td>\n",
       "               0\n",
       "      </td>\n",
       "      \n",
       "      </tr>\n",
       "      </tbody>\n",
       "    </table>\n",
       "    \n",
       "      </td>\n",
       "      </tr>\n",
       "      \n",
       "      </tbody>\n",
       "    </table>\n",
       "    \n",
       "      </td>\n",
       "      </tr>\n",
       "      \n",
       "      <tr>\n",
       "      <th>\n",
       "        visible\n",
       "      </th>\n",
       "      <td>\n",
       "        \n",
       "    <span>BoolVector with 1 elements.</span>\n",
       "    <table>\n",
       "      <tbody>\n",
       "      <tr>\n",
       "      \n",
       "      <td>\n",
       "               0\n",
       "      </td>\n",
       "      \n",
       "      </tr>\n",
       "      </tbody>\n",
       "    </table>\n",
       "    \n",
       "      </td>\n",
       "      </tr>\n",
       "      \n",
       "      </tbody>\n",
       "    </table>\n",
       "    "
      ],
      "text/plain": [
       "R object with classes: ('list',) mapped to:\n",
       "<ListVector - Python:0x0000026618BC9588 / R:0x00000266168E3280>\n",
       "[ListVector, BoolVector]\n",
       "R object with classes: ('list',) mapped to:\n",
       "<ListVector - Python:0x0000026618BC9588 / R:0x00000266168E3280>\n",
       "[ListVector, BoolVector]\n",
       "  visible: <class 'rpy2.robjects.vectors.BoolVector'>\n",
       "  R object with classes: ('logical',) mapped to:\n",
       "<BoolVector - Python:0x0000026618BC9F08 / R:0x00000266162C0EF0>\n",
       "[       0]"
      ]
     },
     "execution_count": 2,
     "metadata": {},
     "output_type": "execute_result"
    }
   ],
   "source": [
    "result = r.source(r'C:\\Users\\City_Year\\GitHub\\ACM-School-Placement\\launch_alg.R')\n",
    "result"
   ]
  },
  {
   "cell_type": "code",
   "execution_count": 3,
   "metadata": {},
   "outputs": [
    {
     "data": {
      "text/plain": [
       "0"
      ]
     },
     "execution_count": 3,
     "metadata": {},
     "output_type": "execute_result"
    }
   ],
   "source": [
    "import os\n",
    "os.system('Rscript launch_alg.R')"
   ]
  }
 ],
 "metadata": {
  "kernelspec": {
   "display_name": "Python 3",
   "language": "python",
   "name": "python3"
  },
  "language_info": {
   "codemirror_mode": {
    "name": "ipython",
    "version": 3
   },
   "file_extension": ".py",
   "mimetype": "text/x-python",
   "name": "python",
   "nbconvert_exporter": "python",
   "pygments_lexer": "ipython3",
   "version": "3.6.4"
  }
 },
 "nbformat": 4,
 "nbformat_minor": 2
}

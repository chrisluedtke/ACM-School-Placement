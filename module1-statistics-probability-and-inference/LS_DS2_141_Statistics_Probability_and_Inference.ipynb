{
  "nbformat": 4,
  "nbformat_minor": 0,
  "metadata": {
    "colab": {
      "name": "LS_DS2_141_Statistics_Probability_and_Inference.ipynb",
      "version": "0.3.2",
      "provenance": [],
      "collapsed_sections": [],
      "include_colab_link": true
    },
    "kernelspec": {
      "name": "python3",
      "display_name": "Python 3"
    }
  },
  "cells": [
    {
      "cell_type": "markdown",
      "metadata": {
        "id": "view-in-github",
        "colab_type": "text"
      },
      "source": [
        "<a href=\"https://colab.research.google.com/github/chrisluedtke/ACM-School-Placement/blob/master/module1-statistics-probability-and-inference/LS_DS2_141_Statistics_Probability_and_Inference.ipynb\" target=\"_parent\"><img src=\"https://colab.research.google.com/assets/colab-badge.svg\" alt=\"Open In Colab\"/></a>"
      ]
    },
    {
      "metadata": {
        "id": "eJGtmni-DezY",
        "colab_type": "text"
      },
      "cell_type": "markdown",
      "source": [
        "# Lambda School Data Science Module 141\n",
        "## Statistics, Probability, and Inference"
      ]
    },
    {
      "metadata": {
        "id": "FMhDKOFND0qY",
        "colab_type": "text"
      },
      "cell_type": "markdown",
      "source": [
        "## Prepare - examine what's available in SciPy\n",
        "\n",
        "As we delve into statistics, we'll be using more libraries - in particular the [stats package from SciPy](https://docs.scipy.org/doc/scipy/reference/tutorial/stats.html)."
      ]
    },
    {
      "metadata": {
        "id": "fQ9rkLJmEbsk",
        "colab_type": "code",
        "outputId": "937d6c40-d775-4016-9b69-70a82cc8b4c0",
        "colab": {
          "base_uri": "https://localhost:8080/",
          "height": 4427
        }
      },
      "cell_type": "code",
      "source": [
        "from scipy import stats\n",
        "dir(stats)"
      ],
      "execution_count": 0,
      "outputs": [
        {
          "output_type": "execute_result",
          "data": {
            "text/plain": [
              "['__all__',\n",
              " '__builtins__',\n",
              " '__cached__',\n",
              " '__doc__',\n",
              " '__file__',\n",
              " '__loader__',\n",
              " '__name__',\n",
              " '__package__',\n",
              " '__path__',\n",
              " '__spec__',\n",
              " '_binned_statistic',\n",
              " '_constants',\n",
              " '_continuous_distns',\n",
              " '_discrete_distns',\n",
              " '_distn_infrastructure',\n",
              " '_distr_params',\n",
              " '_multivariate',\n",
              " '_stats',\n",
              " '_stats_mstats_common',\n",
              " '_tukeylambda_stats',\n",
              " 'absolute_import',\n",
              " 'alpha',\n",
              " 'anderson',\n",
              " 'anderson_ksamp',\n",
              " 'anglit',\n",
              " 'ansari',\n",
              " 'arcsine',\n",
              " 'argus',\n",
              " 'bartlett',\n",
              " 'bayes_mvs',\n",
              " 'bernoulli',\n",
              " 'beta',\n",
              " 'betaprime',\n",
              " 'binned_statistic',\n",
              " 'binned_statistic_2d',\n",
              " 'binned_statistic_dd',\n",
              " 'binom',\n",
              " 'binom_test',\n",
              " 'boltzmann',\n",
              " 'boxcox',\n",
              " 'boxcox_llf',\n",
              " 'boxcox_normmax',\n",
              " 'boxcox_normplot',\n",
              " 'bradford',\n",
              " 'burr',\n",
              " 'burr12',\n",
              " 'cauchy',\n",
              " 'chi',\n",
              " 'chi2',\n",
              " 'chi2_contingency',\n",
              " 'chisquare',\n",
              " 'circmean',\n",
              " 'circstd',\n",
              " 'circvar',\n",
              " 'combine_pvalues',\n",
              " 'contingency',\n",
              " 'cosine',\n",
              " 'crystalball',\n",
              " 'cumfreq',\n",
              " 'describe',\n",
              " 'dgamma',\n",
              " 'dirichlet',\n",
              " 'distributions',\n",
              " 'division',\n",
              " 'dlaplace',\n",
              " 'dweibull',\n",
              " 'energy_distance',\n",
              " 'entropy',\n",
              " 'erlang',\n",
              " 'expon',\n",
              " 'exponnorm',\n",
              " 'exponpow',\n",
              " 'exponweib',\n",
              " 'f',\n",
              " 'f_oneway',\n",
              " 'fatiguelife',\n",
              " 'find_repeats',\n",
              " 'fisher_exact',\n",
              " 'fisk',\n",
              " 'fligner',\n",
              " 'foldcauchy',\n",
              " 'foldnorm',\n",
              " 'frechet_l',\n",
              " 'frechet_r',\n",
              " 'friedmanchisquare',\n",
              " 'gamma',\n",
              " 'gausshyper',\n",
              " 'gaussian_kde',\n",
              " 'genexpon',\n",
              " 'genextreme',\n",
              " 'gengamma',\n",
              " 'genhalflogistic',\n",
              " 'genlogistic',\n",
              " 'gennorm',\n",
              " 'genpareto',\n",
              " 'geom',\n",
              " 'gilbrat',\n",
              " 'gmean',\n",
              " 'gompertz',\n",
              " 'gumbel_l',\n",
              " 'gumbel_r',\n",
              " 'halfcauchy',\n",
              " 'halfgennorm',\n",
              " 'halflogistic',\n",
              " 'halfnorm',\n",
              " 'hmean',\n",
              " 'hypergeom',\n",
              " 'hypsecant',\n",
              " 'invgamma',\n",
              " 'invgauss',\n",
              " 'invweibull',\n",
              " 'invwishart',\n",
              " 'iqr',\n",
              " 'itemfreq',\n",
              " 'jarque_bera',\n",
              " 'johnsonsb',\n",
              " 'johnsonsu',\n",
              " 'kappa3',\n",
              " 'kappa4',\n",
              " 'kde',\n",
              " 'kendalltau',\n",
              " 'kruskal',\n",
              " 'ks_2samp',\n",
              " 'ksone',\n",
              " 'kstat',\n",
              " 'kstatvar',\n",
              " 'kstest',\n",
              " 'kstwobign',\n",
              " 'kurtosis',\n",
              " 'kurtosistest',\n",
              " 'laplace',\n",
              " 'levene',\n",
              " 'levy',\n",
              " 'levy_l',\n",
              " 'levy_stable',\n",
              " 'linregress',\n",
              " 'loggamma',\n",
              " 'logistic',\n",
              " 'loglaplace',\n",
              " 'lognorm',\n",
              " 'logser',\n",
              " 'lomax',\n",
              " 'mannwhitneyu',\n",
              " 'matrix_normal',\n",
              " 'maxwell',\n",
              " 'median_test',\n",
              " 'mielke',\n",
              " 'mode',\n",
              " 'moment',\n",
              " 'mood',\n",
              " 'morestats',\n",
              " 'moyal',\n",
              " 'mstats',\n",
              " 'mstats_basic',\n",
              " 'mstats_extras',\n",
              " 'multinomial',\n",
              " 'multivariate_normal',\n",
              " 'mvn',\n",
              " 'mvsdist',\n",
              " 'nakagami',\n",
              " 'nbinom',\n",
              " 'ncf',\n",
              " 'nct',\n",
              " 'ncx2',\n",
              " 'norm',\n",
              " 'normaltest',\n",
              " 'norminvgauss',\n",
              " 'obrientransform',\n",
              " 'ortho_group',\n",
              " 'pareto',\n",
              " 'pearson3',\n",
              " 'pearsonr',\n",
              " 'percentileofscore',\n",
              " 'planck',\n",
              " 'pointbiserialr',\n",
              " 'poisson',\n",
              " 'power_divergence',\n",
              " 'powerlaw',\n",
              " 'powerlognorm',\n",
              " 'powernorm',\n",
              " 'ppcc_max',\n",
              " 'ppcc_plot',\n",
              " 'print_function',\n",
              " 'probplot',\n",
              " 'randint',\n",
              " 'random_correlation',\n",
              " 'rankdata',\n",
              " 'ranksums',\n",
              " 'rayleigh',\n",
              " 'rdist',\n",
              " 'recipinvgauss',\n",
              " 'reciprocal',\n",
              " 'relfreq',\n",
              " 'rice',\n",
              " 'rv_continuous',\n",
              " 'rv_discrete',\n",
              " 'rv_histogram',\n",
              " 'scoreatpercentile',\n",
              " 'sem',\n",
              " 'semicircular',\n",
              " 'shapiro',\n",
              " 'sigmaclip',\n",
              " 'skellam',\n",
              " 'skew',\n",
              " 'skewnorm',\n",
              " 'skewtest',\n",
              " 'spearmanr',\n",
              " 'special_ortho_group',\n",
              " 'statlib',\n",
              " 'stats',\n",
              " 't',\n",
              " 'test',\n",
              " 'theilslopes',\n",
              " 'tiecorrect',\n",
              " 'tmax',\n",
              " 'tmean',\n",
              " 'tmin',\n",
              " 'trapz',\n",
              " 'triang',\n",
              " 'trim1',\n",
              " 'trim_mean',\n",
              " 'trimboth',\n",
              " 'truncexpon',\n",
              " 'truncnorm',\n",
              " 'tsem',\n",
              " 'tstd',\n",
              " 'ttest_1samp',\n",
              " 'ttest_ind',\n",
              " 'ttest_ind_from_stats',\n",
              " 'ttest_rel',\n",
              " 'tukeylambda',\n",
              " 'tvar',\n",
              " 'uniform',\n",
              " 'unitary_group',\n",
              " 'variation',\n",
              " 'vonmises',\n",
              " 'vonmises_line',\n",
              " 'wald',\n",
              " 'wasserstein_distance',\n",
              " 'weibull_max',\n",
              " 'weibull_min',\n",
              " 'weightedtau',\n",
              " 'wilcoxon',\n",
              " 'wishart',\n",
              " 'wrapcauchy',\n",
              " 'zipf',\n",
              " 'zmap',\n",
              " 'zscore']"
            ]
          },
          "metadata": {
            "tags": []
          },
          "execution_count": 1
        }
      ]
    },
    {
      "metadata": {
        "id": "bxW4SG_gJGlZ",
        "colab_type": "code",
        "outputId": "e715ad1a-883f-41e2-b070-a1106316f4e7",
        "colab": {
          "base_uri": "https://localhost:8080/",
          "height": 70
        }
      },
      "cell_type": "code",
      "source": [
        "# As usual, lots of stuff here! There's our friend, the normal distribution\n",
        "norm = stats.norm()\n",
        "print(norm.mean())\n",
        "print(norm.std())\n",
        "print(norm.var())"
      ],
      "execution_count": 0,
      "outputs": [
        {
          "output_type": "stream",
          "text": [
            "0.0\n",
            "1.0\n",
            "1.0\n"
          ],
          "name": "stdout"
        }
      ]
    },
    {
      "metadata": {
        "id": "RyNKPt_tJk86",
        "colab_type": "code",
        "outputId": "db64f558-1945-4fef-f7d7-3184212d8237",
        "colab": {
          "base_uri": "https://localhost:8080/",
          "height": 70
        }
      },
      "cell_type": "code",
      "source": [
        "# And a new friend - t\n",
        "t1 = stats.t(5)  # 5 is df \"shape\" parameter\n",
        "print(t1.mean())\n",
        "print(t1.std())\n",
        "print(t1.var())"
      ],
      "execution_count": 0,
      "outputs": [
        {
          "output_type": "stream",
          "text": [
            "0.0\n",
            "1.2909944487358056\n",
            "1.6666666666666667\n"
          ],
          "name": "stdout"
        }
      ]
    },
    {
      "metadata": {
        "id": "SRn1zMuaKgxX",
        "colab_type": "text"
      },
      "cell_type": "markdown",
      "source": [
        "![T distribution PDF with different shape parameters](https://upload.wikimedia.org/wikipedia/commons/4/41/Student_t_pdf.svg)\n",
        "\n",
        "*(Picture from [Wikipedia](https://en.wikipedia.org/wiki/Student's_t-distribution#/media/File:Student_t_pdf.svg))*\n",
        "\n",
        "The t-distribution is \"normal-ish\" - the larger the parameter (which reflects its degrees of freedom - more input data/features will increase it), the closer to true normal."
      ]
    },
    {
      "metadata": {
        "id": "seQv5unnJvpM",
        "colab_type": "code",
        "outputId": "b2f84397-b204-4864-84a1-2b29eb926bbf",
        "colab": {
          "base_uri": "https://localhost:8080/",
          "height": 70
        }
      },
      "cell_type": "code",
      "source": [
        "t2 = stats.t(30)  # Will be closer to normal\n",
        "print(t2.mean())\n",
        "print(t2.std())\n",
        "print(t2.var())"
      ],
      "execution_count": 0,
      "outputs": [
        {
          "output_type": "stream",
          "text": [
            "0.0\n",
            "1.0350983390135313\n",
            "1.0714285714285714\n"
          ],
          "name": "stdout"
        }
      ]
    },
    {
      "metadata": {
        "id": "FOvEGMysLaE2",
        "colab_type": "text"
      },
      "cell_type": "markdown",
      "source": [
        "Why is it different from normal? To better reflect the tendencies of small data and situations with unknown population standard deviation. In other words, the normal distribution is still the nice pure ideal in the limit (thanks to the central limit theorem), but the t-distribution is much more useful in many real-world situations.\n",
        "\n",
        "History sidenote - this is \"Student\":\n",
        "\n",
        "![William Sealy Gosset](https://upload.wikimedia.org/wikipedia/commons/4/42/William_Sealy_Gosset.jpg)\n",
        "\n",
        "*(Picture from [Wikipedia](https://en.wikipedia.org/wiki/File:William_Sealy_Gosset.jpg))*\n",
        "\n",
        "His real name is William Sealy Gosset, and he published under the pen name \"Student\" because he was not an academic. He was a brewer, working at Guinness and using trial and error to determine the best ways to yield barley. He's also proof that, even 100 years ago, you don't need official credentials to do real data science!"
      ]
    },
    {
      "metadata": {
        "id": "1yx_QilAEC6o",
        "colab_type": "text"
      },
      "cell_type": "markdown",
      "source": [
        "## Live Lecture - let's perform and interpret a t-test\n",
        "\n",
        "We'll generate our own data, so we can know and alter the \"ground truth\" that the t-test should find. We will learn about p-values and how to interpret \"statistical significance\" based on the output of a hypothesis test."
      ]
    },
    {
      "metadata": {
        "id": "BuysRPs-Ed0v",
        "colab_type": "code",
        "outputId": "12367d53-e39c-4781-9baf-bf6c756770b8",
        "colab": {
          "base_uri": "https://localhost:8080/",
          "height": 54
        }
      },
      "cell_type": "code",
      "source": [
        "# TODO - during class, but please help!\n",
        "\n",
        "# Coke or Pepsi experiment\n",
        "# This will be represented as a binomial random variable\n",
        "# 0 = Likes Pepsi\n",
        "# 1 = Likes Coke\n",
        "\n",
        "# We want a list of 30 observations (sample size n=30)\n",
        "# Start by generating random data\n",
        "import random\n",
        "# help(random.randint)\n",
        "random.seed(10)\n",
        "sample = [random.randint(0, 1) for _ in range(30)]\n",
        "print(sample)"
      ],
      "execution_count": 0,
      "outputs": [
        {
          "output_type": "stream",
          "text": [
            "[0, 1, 1, 0, 0, 1, 1, 1, 0, 0, 1, 1, 0, 0, 1, 0, 1, 0, 1, 1, 1, 1, 1, 1, 0, 1, 1, 0, 1, 0]\n"
          ],
          "name": "stdout"
        }
      ]
    },
    {
      "metadata": {
        "id": "KaLJ6JcJeJ6L",
        "colab_type": "code",
        "outputId": "63609447-7bd2-40eb-9c82-022dd71cce73",
        "colab": {
          "base_uri": "https://localhost:8080/",
          "height": 300
        }
      },
      "cell_type": "code",
      "source": [
        "import pandas as pd\n",
        "df = pd.DataFrame(sample)\n",
        "df.describe()"
      ],
      "execution_count": 0,
      "outputs": [
        {
          "output_type": "execute_result",
          "data": {
            "text/html": [
              "<div>\n",
              "<style scoped>\n",
              "    .dataframe tbody tr th:only-of-type {\n",
              "        vertical-align: middle;\n",
              "    }\n",
              "\n",
              "    .dataframe tbody tr th {\n",
              "        vertical-align: top;\n",
              "    }\n",
              "\n",
              "    .dataframe thead th {\n",
              "        text-align: right;\n",
              "    }\n",
              "</style>\n",
              "<table border=\"1\" class=\"dataframe\">\n",
              "  <thead>\n",
              "    <tr style=\"text-align: right;\">\n",
              "      <th></th>\n",
              "      <th>0</th>\n",
              "    </tr>\n",
              "  </thead>\n",
              "  <tbody>\n",
              "    <tr>\n",
              "      <th>count</th>\n",
              "      <td>30.000000</td>\n",
              "    </tr>\n",
              "    <tr>\n",
              "      <th>mean</th>\n",
              "      <td>0.600000</td>\n",
              "    </tr>\n",
              "    <tr>\n",
              "      <th>std</th>\n",
              "      <td>0.498273</td>\n",
              "    </tr>\n",
              "    <tr>\n",
              "      <th>min</th>\n",
              "      <td>0.000000</td>\n",
              "    </tr>\n",
              "    <tr>\n",
              "      <th>25%</th>\n",
              "      <td>0.000000</td>\n",
              "    </tr>\n",
              "    <tr>\n",
              "      <th>50%</th>\n",
              "      <td>1.000000</td>\n",
              "    </tr>\n",
              "    <tr>\n",
              "      <th>75%</th>\n",
              "      <td>1.000000</td>\n",
              "    </tr>\n",
              "    <tr>\n",
              "      <th>max</th>\n",
              "      <td>1.000000</td>\n",
              "    </tr>\n",
              "  </tbody>\n",
              "</table>\n",
              "</div>"
            ],
            "text/plain": [
              "               0\n",
              "count  30.000000\n",
              "mean    0.600000\n",
              "std     0.498273\n",
              "min     0.000000\n",
              "25%     0.000000\n",
              "50%     1.000000\n",
              "75%     1.000000\n",
              "max     1.000000"
            ]
          },
          "metadata": {
            "tags": []
          },
          "execution_count": 21
        }
      ]
    },
    {
      "metadata": {
        "id": "SFJvEAKqfPoW",
        "colab_type": "code",
        "outputId": "bf01dad6-10c7-4557-ee8d-1c7d11d5dbda",
        "colab": {
          "base_uri": "https://localhost:8080/",
          "height": 347
        }
      },
      "cell_type": "code",
      "source": [
        "df.plot.hist();"
      ],
      "execution_count": 0,
      "outputs": [
        {
          "output_type": "display_data",
          "data": {
            "image/png": "[encoded data removed]",
            "text/plain": [
              "<Figure size 576x396 with 1 Axes>"
            ]
          },
          "metadata": {
            "tags": []
          }
        }
      ]
    },
    {
      "metadata": {
        "id": "J7zEGzmafIjC",
        "colab_type": "code",
        "outputId": "6330da13-d697-494b-9137-2e854cd48f8f",
        "colab": {
          "base_uri": "https://localhost:8080/",
          "height": 34
        }
      },
      "cell_type": "code",
      "source": [
        "# Now with confidence!\n",
        "\n",
        "import scipy\n",
        "# help(scipy.stats.ttest_1samp)\n",
        "scipy.stats.ttest_1samp(df[0], 0.5)"
      ],
      "execution_count": 0,
      "outputs": [
        {
          "output_type": "execute_result",
          "data": {
            "text/plain": [
              "Ttest_1sampResult(statistic=1.0992421631894096, pvalue=0.2807046476465548)"
            ]
          },
          "metadata": {
            "tags": []
          },
          "execution_count": 23
        }
      ]
    },
    {
      "metadata": {
        "id": "7JrC7F31m9j3",
        "colab_type": "code",
        "outputId": "56e56608-92ec-4501-8bf6-074b449a5a02",
        "colab": {
          "base_uri": "https://localhost:8080/",
          "height": 34
        }
      },
      "cell_type": "code",
      "source": [
        "# Let's try to calculate test statistics from scratch-ish\n",
        "# We need the sample standard error\n",
        "df[0].std()"
      ],
      "execution_count": 0,
      "outputs": [
        {
          "output_type": "execute_result",
          "data": {
            "text/plain": [
              "0.4982728791224399"
            ]
          },
          "metadata": {
            "tags": []
          },
          "execution_count": 28
        }
      ]
    },
    {
      "metadata": {
        "id": "W_-BPLKCn2cP",
        "colab_type": "code",
        "outputId": "d03e8987-70b6-4e46-c77a-95f45a525a4c",
        "colab": {
          "base_uri": "https://localhost:8080/",
          "height": 34
        }
      },
      "cell_type": "code",
      "source": [
        "from math import sqrt\n",
        "df[0].std() / sqrt(30)"
      ],
      "execution_count": 0,
      "outputs": [
        {
          "output_type": "execute_result",
          "data": {
            "text/plain": [
              "0.09097176522946843"
            ]
          },
          "metadata": {
            "tags": []
          },
          "execution_count": 34
        }
      ]
    },
    {
      "metadata": {
        "id": "O0CI8uMQqLIa",
        "colab_type": "code",
        "outputId": "01691e76-bb65-47ce-df6f-af728189cf5e",
        "colab": {
          "base_uri": "https://localhost:8080/",
          "height": 34
        }
      },
      "cell_type": "code",
      "source": [
        "# One-liner from Chris\n",
        "(df[0].mean() - 0.5) / (df[0].std() / (30 ** (1/2)))"
      ],
      "execution_count": 0,
      "outputs": [
        {
          "output_type": "execute_result",
          "data": {
            "text/plain": [
              "1.0992421631894094"
            ]
          },
          "metadata": {
            "tags": []
          },
          "execution_count": 33
        }
      ]
    },
    {
      "metadata": {
        "id": "-HCPkOhKqy44",
        "colab_type": "code",
        "colab": {}
      },
      "cell_type": "code",
      "source": [
        "# Let's make a reusable function, and do it from scratch!\n",
        "def std(sample, mean):\n",
        "  std = 0\n",
        "  for obs in sample:\n",
        "    std += (obs - mean)**2\n",
        "  return (std / (len(sample) - 1)) ** (1/2)\n",
        "\n",
        "def calculate_t_stat(sample, null_hyp):\n",
        "  sample_mean = sum(sample) / len(sample)\n",
        "  sample_std = std(sample, sample_mean)\n",
        "  return (sample_mean - null_hyp) / (sample_std / (len(sample) ** (1/2)))"
      ],
      "execution_count": 0,
      "outputs": []
    },
    {
      "metadata": {
        "id": "YNAxWMBWvEaN",
        "colab_type": "text"
      },
      "cell_type": "markdown",
      "source": [
        "As $n \\rightarrow \\infty$, $\\hat{\\mu} \\approx \\mu$\n",
        "\n",
        "(\"mu hat\" is the sample mean, mu is the \"true\" population mean)"
      ]
    },
    {
      "metadata": {
        "id": "K9iFAOGHtAK3",
        "colab_type": "code",
        "outputId": "1dbeeda7-211c-43e6-c515-867e3880a49d",
        "colab": {
          "base_uri": "https://localhost:8080/",
          "height": 34
        }
      },
      "cell_type": "code",
      "source": [
        "calculate_t_stat(survey_data, 0.5)"
      ],
      "execution_count": 0,
      "outputs": [
        {
          "output_type": "execute_result",
          "data": {
            "text/plain": [
              "2.364321853156195"
            ]
          },
          "metadata": {
            "tags": []
          },
          "execution_count": 70
        }
      ]
    },
    {
      "metadata": {
        "id": "2xmEO5J-tRT6",
        "colab_type": "code",
        "outputId": "b66e6704-53d9-4c7f-d6eb-f005c087f4b2",
        "colab": {
          "base_uri": "https://localhost:8080/",
          "height": 52
        }
      },
      "cell_type": "code",
      "source": [
        "pd.DataFrame(survey_data).std()"
      ],
      "execution_count": 0,
      "outputs": [
        {
          "output_type": "execute_result",
          "data": {
            "text/plain": [
              "0    0.478518\n",
              "dtype: float64"
            ]
          },
          "metadata": {
            "tags": []
          },
          "execution_count": 71
        }
      ]
    },
    {
      "metadata": {
        "id": "ljcErJkprqxb",
        "colab_type": "code",
        "outputId": "f38bb1b2-4b3f-40c0-b295-57c484635152",
        "colab": {
          "base_uri": "https://localhost:8080/",
          "height": 34
        }
      },
      "cell_type": "code",
      "source": [
        "# Let's test it\n",
        "survey_data = [0, 1, 0, 1, 0, 0, 0, 1, 1, 0, 0, 1, 1, 1, 1, 1, 1, 1,\n",
        "               0, 0, 1, 1, 1, 1, 1, 1, 1, 1, 1, 0, 1, 1, 1, 1, 1, 1,\n",
        "               1, 0, 1, 0, 1, 1, 0, 1, 0, 1, 1, 0, 0, 0]\n",
        "\n",
        "# Try this with both scipy and ours\n",
        "scipy.stats.ttest_1samp(survey_data, 0.5)"
      ],
      "execution_count": 0,
      "outputs": [
        {
          "output_type": "execute_result",
          "data": {
            "text/plain": [
              "Ttest_1sampResult(statistic=2.364321853156195, pvalue=0.02207003200903075)"
            ]
          },
          "metadata": {
            "tags": []
          },
          "execution_count": 72
        }
      ]
    },
    {
      "metadata": {
        "id": "OZlN8YaWzxSf",
        "colab_type": "code",
        "outputId": "f93eba76-7f46-4878-ee6e-d599e165c3af",
        "colab": {
          "base_uri": "https://localhost:8080/",
          "height": 34
        }
      },
      "cell_type": "code",
      "source": [
        "len(survey_data)"
      ],
      "execution_count": 0,
      "outputs": [
        {
          "output_type": "execute_result",
          "data": {
            "text/plain": [
              "50"
            ]
          },
          "metadata": {
            "tags": []
          },
          "execution_count": 79
        }
      ]
    },
    {
      "metadata": {
        "id": "49rSfB62yGRH",
        "colab_type": "code",
        "outputId": "b79a7952-7b35-4462-82ac-05386fd1d5a0",
        "colab": {
          "base_uri": "https://localhost:8080/",
          "height": 10474
        }
      },
      "cell_type": "code",
      "source": [
        "help(scipy.stats.t)"
      ],
      "execution_count": 0,
      "outputs": [
        {
          "output_type": "stream",
          "text": [
            "Help on t_gen in module scipy.stats._continuous_distns object:\n",
            "\n",
            "class t_gen(scipy.stats._distn_infrastructure.rv_continuous)\n",
            " |  A Student's T continuous random variable.\n",
            " |  \n",
            " |  %(before_notes)s\n",
            " |  \n",
            " |  Notes\n",
            " |  -----\n",
            " |  The probability density function for `t` is:\n",
            " |  \n",
            " |  .. math::\n",
            " |  \n",
            " |      f(x, df) = \\frac{\\gamma((df+1)/2)}\n",
            " |                      {\\sqrt{\\pi*df} \\gamma(df/2) (1+x^2/df)^{(df+1)/2}}\n",
            " |  \n",
            " |  for ``df > 0``.\n",
            " |  \n",
            " |  `t` takes ``df`` as a shape parameter.\n",
            " |  \n",
            " |  %(after_notes)s\n",
            " |  \n",
            " |  %(example)s\n",
            " |  \n",
            " |  Method resolution order:\n",
            " |      t_gen\n",
            " |      scipy.stats._distn_infrastructure.rv_continuous\n",
            " |      scipy.stats._distn_infrastructure.rv_generic\n",
            " |      builtins.object\n",
            " |  \n",
            " |  Methods inherited from scipy.stats._distn_infrastructure.rv_continuous:\n",
            " |  \n",
            " |  __init__(self, momtype=1, a=None, b=None, xtol=1e-14, badvalue=None, name=None, longname=None, shapes=None, extradoc=None, seed=None)\n",
            " |      Initialize self.  See help(type(self)) for accurate signature.\n",
            " |  \n",
            " |  cdf(self, x, *args, **kwds)\n",
            " |      Cumulative distribution function of the given RV.\n",
            " |      \n",
            " |      Parameters\n",
            " |      ----------\n",
            " |      x : array_like\n",
            " |          quantiles\n",
            " |      arg1, arg2, arg3,... : array_like\n",
            " |          The shape parameter(s) for the distribution (see docstring of the\n",
            " |          instance object for more information)\n",
            " |      loc : array_like, optional\n",
            " |          location parameter (default=0)\n",
            " |      scale : array_like, optional\n",
            " |          scale parameter (default=1)\n",
            " |      \n",
            " |      Returns\n",
            " |      -------\n",
            " |      cdf : ndarray\n",
            " |          Cumulative distribution function evaluated at `x`\n",
            " |  \n",
            " |  expect(self, func=None, args=(), loc=0, scale=1, lb=None, ub=None, conditional=False, **kwds)\n",
            " |      Calculate expected value of a function with respect to the\n",
            " |      distribution.\n",
            " |      \n",
            " |      The expected value of a function ``f(x)`` with respect to a\n",
            " |      distribution ``dist`` is defined as::\n",
            " |      \n",
            " |                  ubound\n",
            " |          E[x] = Integral(f(x) * dist.pdf(x))\n",
            " |                  lbound\n",
            " |      \n",
            " |      Parameters\n",
            " |      ----------\n",
            " |      func : callable, optional\n",
            " |          Function for which integral is calculated. Takes only one argument.\n",
            " |          The default is the identity mapping f(x) = x.\n",
            " |      args : tuple, optional\n",
            " |          Shape parameters of the distribution.\n",
            " |      loc : float, optional\n",
            " |          Location parameter (default=0).\n",
            " |      scale : float, optional\n",
            " |          Scale parameter (default=1).\n",
            " |      lb, ub : scalar, optional\n",
            " |          Lower and upper bound for integration. Default is set to the\n",
            " |          support of the distribution.\n",
            " |      conditional : bool, optional\n",
            " |          If True, the integral is corrected by the conditional probability\n",
            " |          of the integration interval.  The return value is the expectation\n",
            " |          of the function, conditional on being in the given interval.\n",
            " |          Default is False.\n",
            " |      \n",
            " |      Additional keyword arguments are passed to the integration routine.\n",
            " |      \n",
            " |      Returns\n",
            " |      -------\n",
            " |      expect : float\n",
            " |          The calculated expected value.\n",
            " |      \n",
            " |      Notes\n",
            " |      -----\n",
            " |      The integration behavior of this function is inherited from\n",
            " |      `integrate.quad`.\n",
            " |  \n",
            " |  fit(self, data, *args, **kwds)\n",
            " |      Return MLEs for shape (if applicable), location, and scale\n",
            " |      parameters from data.\n",
            " |      \n",
            " |      MLE stands for Maximum Likelihood Estimate.  Starting estimates for\n",
            " |      the fit are given by input arguments; for any arguments not provided\n",
            " |      with starting estimates, ``self._fitstart(data)`` is called to generate\n",
            " |      such.\n",
            " |      \n",
            " |      One can hold some parameters fixed to specific values by passing in\n",
            " |      keyword arguments ``f0``, ``f1``, ..., ``fn`` (for shape parameters)\n",
            " |      and ``floc`` and ``fscale`` (for location and scale parameters,\n",
            " |      respectively).\n",
            " |      \n",
            " |      Parameters\n",
            " |      ----------\n",
            " |      data : array_like\n",
            " |          Data to use in calculating the MLEs.\n",
            " |      args : floats, optional\n",
            " |          Starting value(s) for any shape-characterizing arguments (those not\n",
            " |          provided will be determined by a call to ``_fitstart(data)``).\n",
            " |          No default value.\n",
            " |      kwds : floats, optional\n",
            " |          Starting values for the location and scale parameters; no default.\n",
            " |          Special keyword arguments are recognized as holding certain\n",
            " |          parameters fixed:\n",
            " |      \n",
            " |          - f0...fn : hold respective shape parameters fixed.\n",
            " |            Alternatively, shape parameters to fix can be specified by name.\n",
            " |            For example, if ``self.shapes == \"a, b\"``, ``fa``and ``fix_a``\n",
            " |            are equivalent to ``f0``, and ``fb`` and ``fix_b`` are\n",
            " |            equivalent to ``f1``.\n",
            " |      \n",
            " |          - floc : hold location parameter fixed to specified value.\n",
            " |      \n",
            " |          - fscale : hold scale parameter fixed to specified value.\n",
            " |      \n",
            " |          - optimizer : The optimizer to use.  The optimizer must take ``func``,\n",
            " |            and starting position as the first two arguments,\n",
            " |            plus ``args`` (for extra arguments to pass to the\n",
            " |            function to be optimized) and ``disp=0`` to suppress\n",
            " |            output as keyword arguments.\n",
            " |      \n",
            " |      Returns\n",
            " |      -------\n",
            " |      mle_tuple : tuple of floats\n",
            " |          MLEs for any shape parameters (if applicable), followed by those\n",
            " |          for location and scale. For most random variables, shape statistics\n",
            " |          will be returned, but there are exceptions (e.g. ``norm``).\n",
            " |      \n",
            " |      Notes\n",
            " |      -----\n",
            " |      This fit is computed by maximizing a log-likelihood function, with\n",
            " |      penalty applied for samples outside of range of the distribution. The\n",
            " |      returned answer is not guaranteed to be the globally optimal MLE, it\n",
            " |      may only be locally optimal, or the optimization may fail altogether.\n",
            " |      \n",
            " |      Examples\n",
            " |      --------\n",
            " |      \n",
            " |      Generate some data to fit: draw random variates from the `beta`\n",
            " |      distribution\n",
            " |      \n",
            " |      >>> from scipy.stats import beta\n",
            " |      >>> a, b = 1., 2.\n",
            " |      >>> x = beta.rvs(a, b, size=1000)\n",
            " |      \n",
            " |      Now we can fit all four parameters (``a``, ``b``, ``loc`` and ``scale``):\n",
            " |      \n",
            " |      >>> a1, b1, loc1, scale1 = beta.fit(x)\n",
            " |      \n",
            " |      We can also use some prior knowledge about the dataset: let's keep\n",
            " |      ``loc`` and ``scale`` fixed:\n",
            " |      \n",
            " |      >>> a1, b1, loc1, scale1 = beta.fit(x, floc=0, fscale=1)\n",
            " |      >>> loc1, scale1\n",
            " |      (0, 1)\n",
            " |      \n",
            " |      We can also keep shape parameters fixed by using ``f``-keywords. To\n",
            " |      keep the zero-th shape parameter ``a`` equal 1, use ``f0=1`` or,\n",
            " |      equivalently, ``fa=1``:\n",
            " |      \n",
            " |      >>> a1, b1, loc1, scale1 = beta.fit(x, fa=1, floc=0, fscale=1)\n",
            " |      >>> a1\n",
            " |      1\n",
            " |      \n",
            " |      Not all distributions return estimates for the shape parameters.\n",
            " |      ``norm`` for example just returns estimates for location and scale:\n",
            " |      \n",
            " |      >>> from scipy.stats import norm\n",
            " |      >>> x = norm.rvs(a, b, size=1000, random_state=123)\n",
            " |      >>> loc1, scale1 = norm.fit(x)\n",
            " |      >>> loc1, scale1\n",
            " |      (0.92087172783841631, 2.0015750750324668)\n",
            " |  \n",
            " |  fit_loc_scale(self, data, *args)\n",
            " |      Estimate loc and scale parameters from data using 1st and 2nd moments.\n",
            " |      \n",
            " |      Parameters\n",
            " |      ----------\n",
            " |      data : array_like\n",
            " |          Data to fit.\n",
            " |      arg1, arg2, arg3,... : array_like\n",
            " |          The shape parameter(s) for the distribution (see docstring of the\n",
            " |          instance object for more information).\n",
            " |      \n",
            " |      Returns\n",
            " |      -------\n",
            " |      Lhat : float\n",
            " |          Estimated location parameter for the data.\n",
            " |      Shat : float\n",
            " |          Estimated scale parameter for the data.\n",
            " |  \n",
            " |  isf(self, q, *args, **kwds)\n",
            " |      Inverse survival function (inverse of `sf`) at q of the given RV.\n",
            " |      \n",
            " |      Parameters\n",
            " |      ----------\n",
            " |      q : array_like\n",
            " |          upper tail probability\n",
            " |      arg1, arg2, arg3,... : array_like\n",
            " |          The shape parameter(s) for the distribution (see docstring of the\n",
            " |          instance object for more information)\n",
            " |      loc : array_like, optional\n",
            " |          location parameter (default=0)\n",
            " |      scale : array_like, optional\n",
            " |          scale parameter (default=1)\n",
            " |      \n",
            " |      Returns\n",
            " |      -------\n",
            " |      x : ndarray or scalar\n",
            " |          Quantile corresponding to the upper tail probability q.\n",
            " |  \n",
            " |  logcdf(self, x, *args, **kwds)\n",
            " |      Log of the cumulative distribution function at x of the given RV.\n",
            " |      \n",
            " |      Parameters\n",
            " |      ----------\n",
            " |      x : array_like\n",
            " |          quantiles\n",
            " |      arg1, arg2, arg3,... : array_like\n",
            " |          The shape parameter(s) for the distribution (see docstring of the\n",
            " |          instance object for more information)\n",
            " |      loc : array_like, optional\n",
            " |          location parameter (default=0)\n",
            " |      scale : array_like, optional\n",
            " |          scale parameter (default=1)\n",
            " |      \n",
            " |      Returns\n",
            " |      -------\n",
            " |      logcdf : array_like\n",
            " |          Log of the cumulative distribution function evaluated at x\n",
            " |  \n",
            " |  logpdf(self, x, *args, **kwds)\n",
            " |      Log of the probability density function at x of the given RV.\n",
            " |      \n",
            " |      This uses a more numerically accurate calculation if available.\n",
            " |      \n",
            " |      Parameters\n",
            " |      ----------\n",
            " |      x : array_like\n",
            " |          quantiles\n",
            " |      arg1, arg2, arg3,... : array_like\n",
            " |          The shape parameter(s) for the distribution (see docstring of the\n",
            " |          instance object for more information)\n",
            " |      loc : array_like, optional\n",
            " |          location parameter (default=0)\n",
            " |      scale : array_like, optional\n",
            " |          scale parameter (default=1)\n",
            " |      \n",
            " |      Returns\n",
            " |      -------\n",
            " |      logpdf : array_like\n",
            " |          Log of the probability density function evaluated at x\n",
            " |  \n",
            " |  logsf(self, x, *args, **kwds)\n",
            " |      Log of the survival function of the given RV.\n",
            " |      \n",
            " |      Returns the log of the \"survival function,\" defined as (1 - `cdf`),\n",
            " |      evaluated at `x`.\n",
            " |      \n",
            " |      Parameters\n",
            " |      ----------\n",
            " |      x : array_like\n",
            " |          quantiles\n",
            " |      arg1, arg2, arg3,... : array_like\n",
            " |          The shape parameter(s) for the distribution (see docstring of the\n",
            " |          instance object for more information)\n",
            " |      loc : array_like, optional\n",
            " |          location parameter (default=0)\n",
            " |      scale : array_like, optional\n",
            " |          scale parameter (default=1)\n",
            " |      \n",
            " |      Returns\n",
            " |      -------\n",
            " |      logsf : ndarray\n",
            " |          Log of the survival function evaluated at `x`.\n",
            " |  \n",
            " |  nnlf(self, theta, x)\n",
            " |      Return negative loglikelihood function.\n",
            " |      \n",
            " |      Notes\n",
            " |      -----\n",
            " |      This is ``-sum(log pdf(x, theta), axis=0)`` where `theta` are the\n",
            " |      parameters (including loc and scale).\n",
            " |  \n",
            " |  pdf(self, x, *args, **kwds)\n",
            " |      Probability density function at x of the given RV.\n",
            " |      \n",
            " |      Parameters\n",
            " |      ----------\n",
            " |      x : array_like\n",
            " |          quantiles\n",
            " |      arg1, arg2, arg3,... : array_like\n",
            " |          The shape parameter(s) for the distribution (see docstring of the\n",
            " |          instance object for more information)\n",
            " |      loc : array_like, optional\n",
            " |          location parameter (default=0)\n",
            " |      scale : array_like, optional\n",
            " |          scale parameter (default=1)\n",
            " |      \n",
            " |      Returns\n",
            " |      -------\n",
            " |      pdf : ndarray\n",
            " |          Probability density function evaluated at x\n",
            " |  \n",
            " |  ppf(self, q, *args, **kwds)\n",
            " |      Percent point function (inverse of `cdf`) at q of the given RV.\n",
            " |      \n",
            " |      Parameters\n",
            " |      ----------\n",
            " |      q : array_like\n",
            " |          lower tail probability\n",
            " |      arg1, arg2, arg3,... : array_like\n",
            " |          The shape parameter(s) for the distribution (see docstring of the\n",
            " |          instance object for more information)\n",
            " |      loc : array_like, optional\n",
            " |          location parameter (default=0)\n",
            " |      scale : array_like, optional\n",
            " |          scale parameter (default=1)\n",
            " |      \n",
            " |      Returns\n",
            " |      -------\n",
            " |      x : array_like\n",
            " |          quantile corresponding to the lower tail probability q.\n",
            " |  \n",
            " |  sf(self, x, *args, **kwds)\n",
            " |      Survival function (1 - `cdf`) at x of the given RV.\n",
            " |      \n",
            " |      Parameters\n",
            " |      ----------\n",
            " |      x : array_like\n",
            " |          quantiles\n",
            " |      arg1, arg2, arg3,... : array_like\n",
            " |          The shape parameter(s) for the distribution (see docstring of the\n",
            " |          instance object for more information)\n",
            " |      loc : array_like, optional\n",
            " |          location parameter (default=0)\n",
            " |      scale : array_like, optional\n",
            " |          scale parameter (default=1)\n",
            " |      \n",
            " |      Returns\n",
            " |      -------\n",
            " |      sf : array_like\n",
            " |          Survival function evaluated at x\n",
            " |  \n",
            " |  ----------------------------------------------------------------------\n",
            " |  Methods inherited from scipy.stats._distn_infrastructure.rv_generic:\n",
            " |  \n",
            " |  __call__(self, *args, **kwds)\n",
            " |      Freeze the distribution for the given arguments.\n",
            " |      \n",
            " |      Parameters\n",
            " |      ----------\n",
            " |      arg1, arg2, arg3,... : array_like\n",
            " |          The shape parameter(s) for the distribution.  Should include all\n",
            " |          the non-optional arguments, may include ``loc`` and ``scale``.\n",
            " |      \n",
            " |      Returns\n",
            " |      -------\n",
            " |      rv_frozen : rv_frozen instance\n",
            " |          The frozen distribution.\n",
            " |  \n",
            " |  __getstate__(self)\n",
            " |  \n",
            " |  __setstate__(self, state)\n",
            " |  \n",
            " |  entropy(self, *args, **kwds)\n",
            " |      Differential entropy of the RV.\n",
            " |      \n",
            " |      Parameters\n",
            " |      ----------\n",
            " |      arg1, arg2, arg3,... : array_like\n",
            " |          The shape parameter(s) for the distribution (see docstring of the\n",
            " |          instance object for more information).\n",
            " |      loc : array_like, optional\n",
            " |          Location parameter (default=0).\n",
            " |      scale : array_like, optional  (continuous distributions only).\n",
            " |          Scale parameter (default=1).\n",
            " |      \n",
            " |      Notes\n",
            " |      -----\n",
            " |      Entropy is defined base `e`:\n",
            " |      \n",
            " |      >>> drv = rv_discrete(values=((0, 1), (0.5, 0.5)))\n",
            " |      >>> np.allclose(drv.entropy(), np.log(2.0))\n",
            " |      True\n",
            " |  \n",
            " |  freeze(self, *args, **kwds)\n",
            " |      Freeze the distribution for the given arguments.\n",
            " |      \n",
            " |      Parameters\n",
            " |      ----------\n",
            " |      arg1, arg2, arg3,... : array_like\n",
            " |          The shape parameter(s) for the distribution.  Should include all\n",
            " |          the non-optional arguments, may include ``loc`` and ``scale``.\n",
            " |      \n",
            " |      Returns\n",
            " |      -------\n",
            " |      rv_frozen : rv_frozen instance\n",
            " |          The frozen distribution.\n",
            " |  \n",
            " |  interval(self, alpha, *args, **kwds)\n",
            " |      Confidence interval with equal areas around the median.\n",
            " |      \n",
            " |      Parameters\n",
            " |      ----------\n",
            " |      alpha : array_like of float\n",
            " |          Probability that an rv will be drawn from the returned range.\n",
            " |          Each value should be in the range [0, 1].\n",
            " |      arg1, arg2, ... : array_like\n",
            " |          The shape parameter(s) for the distribution (see docstring of the\n",
            " |          instance object for more information).\n",
            " |      loc : array_like, optional\n",
            " |          location parameter, Default is 0.\n",
            " |      scale : array_like, optional\n",
            " |          scale parameter, Default is 1.\n",
            " |      \n",
            " |      Returns\n",
            " |      -------\n",
            " |      a, b : ndarray of float\n",
            " |          end-points of range that contain ``100 * alpha %`` of the rv's\n",
            " |          possible values.\n",
            " |  \n",
            " |  mean(self, *args, **kwds)\n",
            " |      Mean of the distribution.\n",
            " |      \n",
            " |      Parameters\n",
            " |      ----------\n",
            " |      arg1, arg2, arg3,... : array_like\n",
            " |          The shape parameter(s) for the distribution (see docstring of the\n",
            " |          instance object for more information)\n",
            " |      loc : array_like, optional\n",
            " |          location parameter (default=0)\n",
            " |      scale : array_like, optional\n",
            " |          scale parameter (default=1)\n",
            " |      \n",
            " |      Returns\n",
            " |      -------\n",
            " |      mean : float\n",
            " |          the mean of the distribution\n",
            " |  \n",
            " |  median(self, *args, **kwds)\n",
            " |      Median of the distribution.\n",
            " |      \n",
            " |      Parameters\n",
            " |      ----------\n",
            " |      arg1, arg2, arg3,... : array_like\n",
            " |          The shape parameter(s) for the distribution (see docstring of the\n",
            " |          instance object for more information)\n",
            " |      loc : array_like, optional\n",
            " |          Location parameter, Default is 0.\n",
            " |      scale : array_like, optional\n",
            " |          Scale parameter, Default is 1.\n",
            " |      \n",
            " |      Returns\n",
            " |      -------\n",
            " |      median : float\n",
            " |          The median of the distribution.\n",
            " |      \n",
            " |      See Also\n",
            " |      --------\n",
            " |      stats.distributions.rv_discrete.ppf\n",
            " |          Inverse of the CDF\n",
            " |  \n",
            " |  moment(self, n, *args, **kwds)\n",
            " |      n-th order non-central moment of distribution.\n",
            " |      \n",
            " |      Parameters\n",
            " |      ----------\n",
            " |      n : int, n >= 1\n",
            " |          Order of moment.\n",
            " |      arg1, arg2, arg3,... : float\n",
            " |          The shape parameter(s) for the distribution (see docstring of the\n",
            " |          instance object for more information).\n",
            " |      loc : array_like, optional\n",
            " |          location parameter (default=0)\n",
            " |      scale : array_like, optional\n",
            " |          scale parameter (default=1)\n",
            " |  \n",
            " |  rvs(self, *args, **kwds)\n",
            " |      Random variates of given type.\n",
            " |      \n",
            " |      Parameters\n",
            " |      ----------\n",
            " |      arg1, arg2, arg3,... : array_like\n",
            " |          The shape parameter(s) for the distribution (see docstring of the\n",
            " |          instance object for more information).\n",
            " |      loc : array_like, optional\n",
            " |          Location parameter (default=0).\n",
            " |      scale : array_like, optional\n",
            " |          Scale parameter (default=1).\n",
            " |      size : int or tuple of ints, optional\n",
            " |          Defining number of random variates (default is 1).\n",
            " |      random_state : None or int or ``np.random.RandomState`` instance, optional\n",
            " |          If int or RandomState, use it for drawing the random variates.\n",
            " |          If None, rely on ``self.random_state``.\n",
            " |          Default is None.\n",
            " |      \n",
            " |      Returns\n",
            " |      -------\n",
            " |      rvs : ndarray or scalar\n",
            " |          Random variates of given `size`.\n",
            " |  \n",
            " |  stats(self, *args, **kwds)\n",
            " |      Some statistics of the given RV.\n",
            " |      \n",
            " |      Parameters\n",
            " |      ----------\n",
            " |      arg1, arg2, arg3,... : array_like\n",
            " |          The shape parameter(s) for the distribution (see docstring of the\n",
            " |          instance object for more information)\n",
            " |      loc : array_like, optional\n",
            " |          location parameter (default=0)\n",
            " |      scale : array_like, optional (continuous RVs only)\n",
            " |          scale parameter (default=1)\n",
            " |      moments : str, optional\n",
            " |          composed of letters ['mvsk'] defining which moments to compute:\n",
            " |          'm' = mean,\n",
            " |          'v' = variance,\n",
            " |          's' = (Fisher's) skew,\n",
            " |          'k' = (Fisher's) kurtosis.\n",
            " |          (default is 'mv')\n",
            " |      \n",
            " |      Returns\n",
            " |      -------\n",
            " |      stats : sequence\n",
            " |          of requested moments.\n",
            " |  \n",
            " |  std(self, *args, **kwds)\n",
            " |      Standard deviation of the distribution.\n",
            " |      \n",
            " |      Parameters\n",
            " |      ----------\n",
            " |      arg1, arg2, arg3,... : array_like\n",
            " |          The shape parameter(s) for the distribution (see docstring of the\n",
            " |          instance object for more information)\n",
            " |      loc : array_like, optional\n",
            " |          location parameter (default=0)\n",
            " |      scale : array_like, optional\n",
            " |          scale parameter (default=1)\n",
            " |      \n",
            " |      Returns\n",
            " |      -------\n",
            " |      std : float\n",
            " |          standard deviation of the distribution\n",
            " |  \n",
            " |  var(self, *args, **kwds)\n",
            " |      Variance of the distribution.\n",
            " |      \n",
            " |      Parameters\n",
            " |      ----------\n",
            " |      arg1, arg2, arg3,... : array_like\n",
            " |          The shape parameter(s) for the distribution (see docstring of the\n",
            " |          instance object for more information)\n",
            " |      loc : array_like, optional\n",
            " |          location parameter (default=0)\n",
            " |      scale : array_like, optional\n",
            " |          scale parameter (default=1)\n",
            " |      \n",
            " |      Returns\n",
            " |      -------\n",
            " |      var : float\n",
            " |          the variance of the distribution\n",
            " |  \n",
            " |  ----------------------------------------------------------------------\n",
            " |  Data descriptors inherited from scipy.stats._distn_infrastructure.rv_generic:\n",
            " |  \n",
            " |  __dict__\n",
            " |      dictionary for instance variables (if defined)\n",
            " |  \n",
            " |  __weakref__\n",
            " |      list of weak references to the object (if defined)\n",
            " |  \n",
            " |  random_state\n",
            " |      Get or set the RandomState object for generating random variates.\n",
            " |      \n",
            " |      This can be either None or an existing RandomState object.\n",
            " |      \n",
            " |      If None (or np.random), use the RandomState singleton used by np.random.\n",
            " |      If already a RandomState instance, use it.\n",
            " |      If an int, use a new RandomState instance seeded with seed.\n",
            "\n"
          ],
          "name": "stdout"
        }
      ]
    },
    {
      "metadata": {
        "id": "OclSNP5FzKPt",
        "colab_type": "code",
        "outputId": "9e35556a-df83-4c60-cfc4-f3f57700ae24",
        "colab": {
          "base_uri": "https://localhost:8080/",
          "height": 34
        }
      },
      "cell_type": "code",
      "source": [
        "t = scipy.stats.t(len(survey_data))\n",
        "t.cdf(calculate_t_stat(survey_data, 0.5))"
      ],
      "execution_count": 0,
      "outputs": [
        {
          "output_type": "execute_result",
          "data": {
            "text/plain": [
              "0.9890062713232346"
            ]
          },
          "metadata": {
            "tags": []
          },
          "execution_count": 84
        }
      ]
    },
    {
      "metadata": {
        "id": "v9EMgd2cz_XZ",
        "colab_type": "code",
        "outputId": "c29da7d7-7c54-4618-c167-384bc0aa66f6",
        "colab": {
          "base_uri": "https://localhost:8080/",
          "height": 86
        }
      },
      "cell_type": "code",
      "source": [
        "help(t.cdf)"
      ],
      "execution_count": 0,
      "outputs": [
        {
          "output_type": "stream",
          "text": [
            "Help on method cdf in module scipy.stats._distn_infrastructure:\n",
            "\n",
            "cdf(x) method of scipy.stats._distn_infrastructure.rv_frozen instance\n",
            "\n"
          ],
          "name": "stdout"
        }
      ]
    },
    {
      "metadata": {
        "id": "8gpWW4Fk3a7A",
        "colab_type": "code",
        "outputId": "006c50d4-c632-40fb-ab88-cf8ac348becc",
        "colab": {
          "base_uri": "https://localhost:8080/",
          "height": 34
        }
      },
      "cell_type": "code",
      "source": [
        "# A hacky solution\n",
        "2 * (1 - t.cdf(calculate_t_stat(survey_data, 0.5)))"
      ],
      "execution_count": 0,
      "outputs": [
        {
          "output_type": "execute_result",
          "data": {
            "text/plain": [
              "0.021987457353530804"
            ]
          },
          "metadata": {
            "tags": []
          },
          "execution_count": 85
        }
      ]
    },
    {
      "metadata": {
        "id": "fptK3w_Xhtks",
        "colab_type": "code",
        "colab": {}
      },
      "cell_type": "code",
      "source": [
        "# On your own optional stretch goal:\n",
        "# Figure out how to get t.cdf to give us 1/2 tailed tests and not just the base\n",
        "\n",
        "# Put the entire above \"experiment\" in a loop\n",
        "# and run it a bunch of times for a bunch of different seeds\n",
        "# and see how often the p value holds"
      ],
      "execution_count": 0,
      "outputs": []
    },
    {
      "metadata": {
        "id": "egXb7YpqEcZF",
        "colab_type": "text"
      },
      "cell_type": "markdown",
      "source": [
        "## Assignment - apply the t-test to real data\n",
        "\n",
        "Your assignment is to determine which issues have \"statistically significant\" differences between political parties in this [1980s congressional voting data](https://archive.ics.uci.edu/ml/datasets/Congressional+Voting+Records). The data consists of 435 instances (one for each congressperson), a class (democrat or republican), and 16 binary attributes (yes or no for voting for or against certain issues). Be aware - there are missing values!\n",
        "\n",
        "Your goals:\n",
        "\n",
        "1. Load and clean the data (or determine the best method to drop observations when running tests)\n",
        "2. Using hypothesis testing, find an issue that democrats support more than republicans with p < 0.01\n",
        "3. Using hypothesis testing, find an issue that republicans support more than democrats with p < 0.01\n",
        "4. Using hypothesis testing, find an issue where the difference between republicans and democrats has p > 0.1 (i.e. there may not be much of a difference)\n",
        "\n",
        "Note that this data will involve *2 sample* t-tests, because you're comparing averages across two groups (republicans and democrats) rather than a single group against a null hypothesis.\n",
        "\n",
        "Stretch goals:\n",
        "\n",
        "1. Refactor your code into functions so it's easy to rerun with arbitrary variables\n",
        "2. Apply hypothesis testing to your personal project data (for the purposes of this notebook you can type a summary of the hypothesis you formed and tested)"
      ]
    },
    {
      "metadata": {
        "id": "KovsCKmxRfDq",
        "colab_type": "code",
        "colab": {}
      },
      "cell_type": "code",
      "source": [
        "from bs4 import BeautifulSoup\n",
        "import re\n",
        "import requests\n",
        "from typing import Tuple\n",
        "\n",
        "def get_uci_data_urls(url: str) -> Tuple[str]:\n",
        "  r = requests.get(url)\n",
        "  soup = BeautifulSoup(r.text, 'html.parser')\n",
        "\n",
        "  match = soup.find('a', string='Data Folder', href=True)\n",
        "  \n",
        "  if not match:\n",
        "    return '', ''\n",
        "\n",
        "  db_url = match['href']\n",
        "  url = url.split('/')[:-2]\n",
        "  db_url = '/'.join(url) + db_url[2:]\n",
        "\n",
        "  r = requests.get(db_url)\n",
        "  soup = BeautifulSoup(r.text, 'html.parser')\n",
        "\n",
        "  data_url = soup.find(string=re.compile(\".data\"), href=True)\n",
        "  if data_url:\n",
        "    data_url = db_url + data_url['href']\n",
        "\n",
        "  names_url = soup.find(string=re.compile(\".names\"), href=True)\n",
        "  if names_url:\n",
        "    names_url = db_url + names_url['href']\n",
        "\n",
        "  return data_url or '', names_url or ''"
      ],
      "execution_count": 0,
      "outputs": []
    },
    {
      "metadata": {
        "id": "2Inni_ByYxbF",
        "colab_type": "code",
        "colab": {}
      },
      "cell_type": "code",
      "source": [
        "import pandas as pd\n",
        "import numpy as np\n",
        "import scipy\n",
        "\n",
        "uci_url = 'https://archive.ics.uci.edu/ml/datasets/Congressional+Voting+Records'\n",
        "data_url, names_url = get_uci_data_urls(uci_url)\n",
        "\n",
        "cols = [\n",
        "  'Class Name',\n",
        "  'handicapped-infants',\n",
        "  'water-project-cost-sharing',\n",
        "  'adoption-of-the-budget-resolution',\n",
        "  'physician-fee-freeze',\n",
        "  'el-salvador-aid',\n",
        "  'religious-groups-in-schools',\n",
        "  'anti-satellite-test-ban',\n",
        "  'aid-to-nicaraguan-contras',\n",
        "  'mx-missile',\n",
        "  'immigration',\n",
        "  'synfuels-corporation-cutback',\n",
        "  'education-spending',\n",
        "  'superfund-right-to-sue',\n",
        "  'crime',\n",
        "  'duty-free-exports',\n",
        "  'export-administration-act-south-africa'\n",
        "]\n",
        "\n",
        "df = pd.read_csv(data_url, names=cols)"
      ],
      "execution_count": 0,
      "outputs": []
    },
    {
      "metadata": {
        "id": "nstrmCG-Ecyk",
        "colab_type": "code",
        "colab": {
          "base_uri": "https://localhost:8080/",
          "height": 247
        },
        "outputId": "b45d92b1-075f-41f6-bdb6-70b21d4eb335"
      },
      "cell_type": "code",
      "source": [
        "df.head()"
      ],
      "execution_count": 13,
      "outputs": [
        {
          "output_type": "execute_result",
          "data": {
            "text/html": [
              "<div>\n",
              "<style scoped>\n",
              "    .dataframe tbody tr th:only-of-type {\n",
              "        vertical-align: middle;\n",
              "    }\n",
              "\n",
              "    .dataframe tbody tr th {\n",
              "        vertical-align: top;\n",
              "    }\n",
              "\n",
              "    .dataframe thead th {\n",
              "        text-align: right;\n",
              "    }\n",
              "</style>\n",
              "<table border=\"1\" class=\"dataframe\">\n",
              "  <thead>\n",
              "    <tr style=\"text-align: right;\">\n",
              "      <th></th>\n",
              "      <th>Class Name</th>\n",
              "      <th>handicapped-infants</th>\n",
              "      <th>water-project-cost-sharing</th>\n",
              "      <th>adoption-of-the-budget-resolution</th>\n",
              "      <th>physician-fee-freeze</th>\n",
              "      <th>el-salvador-aid</th>\n",
              "      <th>religious-groups-in-schools</th>\n",
              "      <th>anti-satellite-test-ban</th>\n",
              "      <th>aid-to-nicaraguan-contras</th>\n",
              "      <th>mx-missile</th>\n",
              "      <th>immigration</th>\n",
              "      <th>synfuels-corporation-cutback</th>\n",
              "      <th>education-spending</th>\n",
              "      <th>superfund-right-to-sue</th>\n",
              "      <th>crime</th>\n",
              "      <th>duty-free-exports</th>\n",
              "      <th>export-administration-act-south-africa</th>\n",
              "    </tr>\n",
              "  </thead>\n",
              "  <tbody>\n",
              "    <tr>\n",
              "      <th>0</th>\n",
              "      <td>republican</td>\n",
              "      <td>n</td>\n",
              "      <td>y</td>\n",
              "      <td>n</td>\n",
              "      <td>y</td>\n",
              "      <td>y</td>\n",
              "      <td>y</td>\n",
              "      <td>n</td>\n",
              "      <td>n</td>\n",
              "      <td>n</td>\n",
              "      <td>y</td>\n",
              "      <td>?</td>\n",
              "      <td>y</td>\n",
              "      <td>y</td>\n",
              "      <td>y</td>\n",
              "      <td>n</td>\n",
              "      <td>y</td>\n",
              "    </tr>\n",
              "    <tr>\n",
              "      <th>1</th>\n",
              "      <td>republican</td>\n",
              "      <td>n</td>\n",
              "      <td>y</td>\n",
              "      <td>n</td>\n",
              "      <td>y</td>\n",
              "      <td>y</td>\n",
              "      <td>y</td>\n",
              "      <td>n</td>\n",
              "      <td>n</td>\n",
              "      <td>n</td>\n",
              "      <td>n</td>\n",
              "      <td>n</td>\n",
              "      <td>y</td>\n",
              "      <td>y</td>\n",
              "      <td>y</td>\n",
              "      <td>n</td>\n",
              "      <td>?</td>\n",
              "    </tr>\n",
              "    <tr>\n",
              "      <th>2</th>\n",
              "      <td>democrat</td>\n",
              "      <td>?</td>\n",
              "      <td>y</td>\n",
              "      <td>y</td>\n",
              "      <td>?</td>\n",
              "      <td>y</td>\n",
              "      <td>y</td>\n",
              "      <td>n</td>\n",
              "      <td>n</td>\n",
              "      <td>n</td>\n",
              "      <td>n</td>\n",
              "      <td>y</td>\n",
              "      <td>n</td>\n",
              "      <td>y</td>\n",
              "      <td>y</td>\n",
              "      <td>n</td>\n",
              "      <td>n</td>\n",
              "    </tr>\n",
              "    <tr>\n",
              "      <th>3</th>\n",
              "      <td>democrat</td>\n",
              "      <td>n</td>\n",
              "      <td>y</td>\n",
              "      <td>y</td>\n",
              "      <td>n</td>\n",
              "      <td>?</td>\n",
              "      <td>y</td>\n",
              "      <td>n</td>\n",
              "      <td>n</td>\n",
              "      <td>n</td>\n",
              "      <td>n</td>\n",
              "      <td>y</td>\n",
              "      <td>n</td>\n",
              "      <td>y</td>\n",
              "      <td>n</td>\n",
              "      <td>n</td>\n",
              "      <td>y</td>\n",
              "    </tr>\n",
              "    <tr>\n",
              "      <th>4</th>\n",
              "      <td>democrat</td>\n",
              "      <td>y</td>\n",
              "      <td>y</td>\n",
              "      <td>y</td>\n",
              "      <td>n</td>\n",
              "      <td>y</td>\n",
              "      <td>y</td>\n",
              "      <td>n</td>\n",
              "      <td>n</td>\n",
              "      <td>n</td>\n",
              "      <td>n</td>\n",
              "      <td>y</td>\n",
              "      <td>?</td>\n",
              "      <td>y</td>\n",
              "      <td>y</td>\n",
              "      <td>y</td>\n",
              "      <td>y</td>\n",
              "    </tr>\n",
              "  </tbody>\n",
              "</table>\n",
              "</div>"
            ],
            "text/plain": [
              "   Class Name handicapped-infants water-project-cost-sharing  \\\n",
              "0  republican                   n                          y   \n",
              "1  republican                   n                          y   \n",
              "2    democrat                   ?                          y   \n",
              "3    democrat                   n                          y   \n",
              "4    democrat                   y                          y   \n",
              "\n",
              "  adoption-of-the-budget-resolution physician-fee-freeze el-salvador-aid  \\\n",
              "0                                 n                    y               y   \n",
              "1                                 n                    y               y   \n",
              "2                                 y                    ?               y   \n",
              "3                                 y                    n               ?   \n",
              "4                                 y                    n               y   \n",
              "\n",
              "  religious-groups-in-schools anti-satellite-test-ban  \\\n",
              "0                           y                       n   \n",
              "1                           y                       n   \n",
              "2                           y                       n   \n",
              "3                           y                       n   \n",
              "4                           y                       n   \n",
              "\n",
              "  aid-to-nicaraguan-contras mx-missile immigration  \\\n",
              "0                         n          n           y   \n",
              "1                         n          n           n   \n",
              "2                         n          n           n   \n",
              "3                         n          n           n   \n",
              "4                         n          n           n   \n",
              "\n",
              "  synfuels-corporation-cutback education-spending superfund-right-to-sue  \\\n",
              "0                            ?                  y                      y   \n",
              "1                            n                  y                      y   \n",
              "2                            y                  n                      y   \n",
              "3                            y                  n                      y   \n",
              "4                            y                  ?                      y   \n",
              "\n",
              "  crime duty-free-exports export-administration-act-south-africa  \n",
              "0     y                 n                                      y  \n",
              "1     y                 n                                      ?  \n",
              "2     y                 n                                      n  \n",
              "3     n                 n                                      y  \n",
              "4     y                 y                                      y  "
            ]
          },
          "metadata": {
            "tags": []
          },
          "execution_count": 13
        }
      ]
    },
    {
      "metadata": {
        "id": "N6g0q1Ceg05w",
        "colab_type": "code",
        "colab": {
          "base_uri": "https://localhost:8080/",
          "height": 336
        },
        "outputId": "8caa3e3c-475d-4ffb-830c-3881afe91ae5"
      },
      "cell_type": "code",
      "source": [
        "df = df.replace({'?':np.nan, 'n':0, 'y':1})\n",
        "df.isnull().sum()"
      ],
      "execution_count": 62,
      "outputs": [
        {
          "output_type": "execute_result",
          "data": {
            "text/plain": [
              "Class Name                                  0\n",
              "handicapped-infants                        12\n",
              "water-project-cost-sharing                 48\n",
              "adoption-of-the-budget-resolution          11\n",
              "physician-fee-freeze                       11\n",
              "el-salvador-aid                            15\n",
              "religious-groups-in-schools                11\n",
              "anti-satellite-test-ban                    14\n",
              "aid-to-nicaraguan-contras                  15\n",
              "mx-missile                                 22\n",
              "immigration                                 7\n",
              "synfuels-corporation-cutback               21\n",
              "education-spending                         31\n",
              "superfund-right-to-sue                     25\n",
              "crime                                      17\n",
              "duty-free-exports                          28\n",
              "export-administration-act-south-africa    104\n",
              "dtype: int64"
            ]
          },
          "metadata": {
            "tags": []
          },
          "execution_count": 62
        }
      ]
    },
    {
      "metadata": {
        "id": "z2FDZZLF7eov",
        "colab_type": "code",
        "colab": {}
      },
      "cell_type": "code",
      "source": [
        "df_voted = ~df.iloc[:, 1:50].isnull() * 1\n",
        "for col in df_voted:\n",
        "  df_voted[col] = pd.to_numeric(df_voted[col])\n",
        "  \n",
        "df_voted = pd.concat([df['Class Name'], df_voted], axis=1)"
      ],
      "execution_count": 0,
      "outputs": []
    },
    {
      "metadata": {
        "id": "mQpWt6nq3DYZ",
        "colab_type": "code",
        "colab": {}
      },
      "cell_type": "code",
      "source": [
        "def assess_t_stats(df):\n",
        "  results = {}\n",
        "  for col in df.select_dtypes(include=np.number):\n",
        "    results[col] = tuple(\n",
        "      scipy.stats.ttest_ind(df.loc[df['Class Name']=='democrat', col],\n",
        "                            df.loc[df['Class Name']=='republican', col],\n",
        "                            nan_policy='omit',\n",
        "                            equal_var=False)\n",
        "    )\n",
        "\n",
        "  results = (pd.DataFrame(results)\n",
        "               .T\n",
        "               .rename(columns={0:'statistic', 1:'pvalue'})\n",
        "               .sort_values(['pvalue', 'statistic']))\n",
        "  \n",
        "  return results"
      ],
      "execution_count": 0,
      "outputs": []
    },
    {
      "metadata": {
        "id": "9634sKle91_Z",
        "colab_type": "code",
        "colab": {
          "base_uri": "https://localhost:8080/",
          "height": 527
        },
        "outputId": "46461ca9-acc3-4217-f25e-6888073fba8e"
      },
      "cell_type": "code",
      "source": [
        "assess_t_stats(df)"
      ],
      "execution_count": 116,
      "outputs": [
        {
          "output_type": "execute_result",
          "data": {
            "text/html": [
              "<div>\n",
              "<style scoped>\n",
              "    .dataframe tbody tr th:only-of-type {\n",
              "        vertical-align: middle;\n",
              "    }\n",
              "\n",
              "    .dataframe tbody tr th {\n",
              "        vertical-align: top;\n",
              "    }\n",
              "\n",
              "    .dataframe thead th {\n",
              "        text-align: right;\n",
              "    }\n",
              "</style>\n",
              "<table border=\"1\" class=\"dataframe\">\n",
              "  <thead>\n",
              "    <tr style=\"text-align: right;\">\n",
              "      <th></th>\n",
              "      <th>statistic</th>\n",
              "      <th>pvalue</th>\n",
              "    </tr>\n",
              "  </thead>\n",
              "  <tbody>\n",
              "    <tr>\n",
              "      <th>physician-fee-freeze</th>\n",
              "      <td>-56.704806</td>\n",
              "      <td>8.820761e-193</td>\n",
              "    </tr>\n",
              "    <tr>\n",
              "      <th>el-salvador-aid</th>\n",
              "      <td>-23.907288</td>\n",
              "      <td>2.898373e-79</td>\n",
              "    </tr>\n",
              "    <tr>\n",
              "      <th>adoption-of-the-budget-resolution</th>\n",
              "      <td>22.793246</td>\n",
              "      <td>1.946704e-69</td>\n",
              "    </tr>\n",
              "    <tr>\n",
              "      <th>education-spending</th>\n",
              "      <td>-20.724816</td>\n",
              "      <td>3.568751e-62</td>\n",
              "    </tr>\n",
              "    <tr>\n",
              "      <th>crime</th>\n",
              "      <td>-19.927656</td>\n",
              "      <td>6.862816e-58</td>\n",
              "    </tr>\n",
              "    <tr>\n",
              "      <th>aid-to-nicaraguan-contras</th>\n",
              "      <td>18.254856</td>\n",
              "      <td>2.288121e-52</td>\n",
              "    </tr>\n",
              "    <tr>\n",
              "      <th>mx-missile</th>\n",
              "      <td>17.409048</td>\n",
              "      <td>4.289262e-51</td>\n",
              "    </tr>\n",
              "    <tr>\n",
              "      <th>duty-free-exports</th>\n",
              "      <td>14.376245</td>\n",
              "      <td>3.812922e-38</td>\n",
              "    </tr>\n",
              "    <tr>\n",
              "      <th>superfund-right-to-sue</th>\n",
              "      <td>-14.352567</td>\n",
              "      <td>7.597900e-38</td>\n",
              "    </tr>\n",
              "    <tr>\n",
              "      <th>anti-satellite-test-ban</th>\n",
              "      <td>12.467493</td>\n",
              "      <td>1.362781e-29</td>\n",
              "    </tr>\n",
              "    <tr>\n",
              "      <th>religious-groups-in-schools</th>\n",
              "      <td>-10.767025</td>\n",
              "      <td>4.830932e-24</td>\n",
              "    </tr>\n",
              "    <tr>\n",
              "      <th>handicapped-infants</th>\n",
              "      <td>9.662337</td>\n",
              "      <td>5.429019e-20</td>\n",
              "    </tr>\n",
              "    <tr>\n",
              "      <th>synfuels-corporation-cutback</th>\n",
              "      <td>9.040574</td>\n",
              "      <td>6.298960e-18</td>\n",
              "    </tr>\n",
              "    <tr>\n",
              "      <th>export-administration-act-south-africa</th>\n",
              "      <td>6.397887</td>\n",
              "      <td>1.042864e-09</td>\n",
              "    </tr>\n",
              "    <tr>\n",
              "      <th>immigration</th>\n",
              "      <td>-1.737470</td>\n",
              "      <td>8.318509e-02</td>\n",
              "    </tr>\n",
              "    <tr>\n",
              "      <th>water-project-cost-sharing</th>\n",
              "      <td>-0.088940</td>\n",
              "      <td>9.291868e-01</td>\n",
              "    </tr>\n",
              "  </tbody>\n",
              "</table>\n",
              "</div>"
            ],
            "text/plain": [
              "                                        statistic         pvalue\n",
              "physician-fee-freeze                   -56.704806  8.820761e-193\n",
              "el-salvador-aid                        -23.907288   2.898373e-79\n",
              "adoption-of-the-budget-resolution       22.793246   1.946704e-69\n",
              "education-spending                     -20.724816   3.568751e-62\n",
              "crime                                  -19.927656   6.862816e-58\n",
              "aid-to-nicaraguan-contras               18.254856   2.288121e-52\n",
              "mx-missile                              17.409048   4.289262e-51\n",
              "duty-free-exports                       14.376245   3.812922e-38\n",
              "superfund-right-to-sue                 -14.352567   7.597900e-38\n",
              "anti-satellite-test-ban                 12.467493   1.362781e-29\n",
              "religious-groups-in-schools            -10.767025   4.830932e-24\n",
              "handicapped-infants                      9.662337   5.429019e-20\n",
              "synfuels-corporation-cutback             9.040574   6.298960e-18\n",
              "export-administration-act-south-africa   6.397887   1.042864e-09\n",
              "immigration                             -1.737470   8.318509e-02\n",
              "water-project-cost-sharing              -0.088940   9.291868e-01"
            ]
          },
          "metadata": {
            "tags": []
          },
          "execution_count": 116
        }
      ]
    },
    {
      "metadata": {
        "id": "O8zgVie_5H_v",
        "colab_type": "code",
        "colab": {
          "base_uri": "https://localhost:8080/",
          "height": 527
        },
        "outputId": "c37f22dc-f78a-4f6c-cee5-6e3511a3d3b2"
      },
      "cell_type": "code",
      "source": [
        "assess_t_stats(df_voted)"
      ],
      "execution_count": 118,
      "outputs": [
        {
          "output_type": "execute_result",
          "data": {
            "text/html": [
              "<div>\n",
              "<style scoped>\n",
              "    .dataframe tbody tr th:only-of-type {\n",
              "        vertical-align: middle;\n",
              "    }\n",
              "\n",
              "    .dataframe tbody tr th {\n",
              "        vertical-align: top;\n",
              "    }\n",
              "\n",
              "    .dataframe thead th {\n",
              "        text-align: right;\n",
              "    }\n",
              "</style>\n",
              "<table border=\"1\" class=\"dataframe\">\n",
              "  <thead>\n",
              "    <tr style=\"text-align: right;\">\n",
              "      <th></th>\n",
              "      <th>statistic</th>\n",
              "      <th>pvalue</th>\n",
              "    </tr>\n",
              "  </thead>\n",
              "  <tbody>\n",
              "    <tr>\n",
              "      <th>export-administration-act-south-africa</th>\n",
              "      <td>-4.576925</td>\n",
              "      <td>0.000006</td>\n",
              "    </tr>\n",
              "    <tr>\n",
              "      <th>mx-missile</th>\n",
              "      <td>-2.835053</td>\n",
              "      <td>0.004804</td>\n",
              "    </tr>\n",
              "    <tr>\n",
              "      <th>aid-to-nicaraguan-contras</th>\n",
              "      <td>2.458408</td>\n",
              "      <td>0.014734</td>\n",
              "    </tr>\n",
              "    <tr>\n",
              "      <th>el-salvador-aid</th>\n",
              "      <td>-1.659582</td>\n",
              "      <td>0.097723</td>\n",
              "    </tr>\n",
              "    <tr>\n",
              "      <th>religious-groups-in-schools</th>\n",
              "      <td>-1.569881</td>\n",
              "      <td>0.117175</td>\n",
              "    </tr>\n",
              "    <tr>\n",
              "      <th>handicapped-infants</th>\n",
              "      <td>-1.050963</td>\n",
              "      <td>0.293876</td>\n",
              "    </tr>\n",
              "    <tr>\n",
              "      <th>physician-fee-freeze</th>\n",
              "      <td>-0.826957</td>\n",
              "      <td>0.408738</td>\n",
              "    </tr>\n",
              "    <tr>\n",
              "      <th>duty-free-exports</th>\n",
              "      <td>0.466165</td>\n",
              "      <td>0.641402</td>\n",
              "    </tr>\n",
              "    <tr>\n",
              "      <th>water-project-cost-sharing</th>\n",
              "      <td>0.452715</td>\n",
              "      <td>0.651043</td>\n",
              "    </tr>\n",
              "    <tr>\n",
              "      <th>synfuels-corporation-cutback</th>\n",
              "      <td>0.400109</td>\n",
              "      <td>0.689333</td>\n",
              "    </tr>\n",
              "    <tr>\n",
              "      <th>education-spending</th>\n",
              "      <td>0.386766</td>\n",
              "      <td>0.699173</td>\n",
              "    </tr>\n",
              "    <tr>\n",
              "      <th>anti-satellite-test-ban</th>\n",
              "      <td>0.323824</td>\n",
              "      <td>0.746275</td>\n",
              "    </tr>\n",
              "    <tr>\n",
              "      <th>immigration</th>\n",
              "      <td>0.227006</td>\n",
              "      <td>0.820559</td>\n",
              "    </tr>\n",
              "    <tr>\n",
              "      <th>crime</th>\n",
              "      <td>0.217690</td>\n",
              "      <td>0.827801</td>\n",
              "    </tr>\n",
              "    <tr>\n",
              "      <th>adoption-of-the-budget-resolution</th>\n",
              "      <td>-0.157010</td>\n",
              "      <td>0.875323</td>\n",
              "    </tr>\n",
              "    <tr>\n",
              "      <th>superfund-right-to-sue</th>\n",
              "      <td>0.144636</td>\n",
              "      <td>0.885082</td>\n",
              "    </tr>\n",
              "  </tbody>\n",
              "</table>\n",
              "</div>"
            ],
            "text/plain": [
              "                                        statistic    pvalue\n",
              "export-administration-act-south-africa  -4.576925  0.000006\n",
              "mx-missile                              -2.835053  0.004804\n",
              "aid-to-nicaraguan-contras                2.458408  0.014734\n",
              "el-salvador-aid                         -1.659582  0.097723\n",
              "religious-groups-in-schools             -1.569881  0.117175\n",
              "handicapped-infants                     -1.050963  0.293876\n",
              "physician-fee-freeze                    -0.826957  0.408738\n",
              "duty-free-exports                        0.466165  0.641402\n",
              "water-project-cost-sharing               0.452715  0.651043\n",
              "synfuels-corporation-cutback             0.400109  0.689333\n",
              "education-spending                       0.386766  0.699173\n",
              "anti-satellite-test-ban                  0.323824  0.746275\n",
              "immigration                              0.227006  0.820559\n",
              "crime                                    0.217690  0.827801\n",
              "adoption-of-the-budget-resolution       -0.157010  0.875323\n",
              "superfund-right-to-sue                   0.144636  0.885082"
            ]
          },
          "metadata": {
            "tags": []
          },
          "execution_count": 118
        }
      ]
    },
    {
      "metadata": {
        "id": "AjfzFiSukkG5",
        "colab_type": "text"
      },
      "cell_type": "markdown",
      "source": [
        "# Resources\n",
        "\n",
        "- https://homepage.divms.uiowa.edu/~mbognar/applets/t.html\n",
        "- https://rpsychologist.com/d3/tdist/"
      ]
    }
  ]
}